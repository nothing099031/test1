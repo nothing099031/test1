{
  "nbformat": 4,
  "nbformat_minor": 0,
  "metadata": {
    "colab": {
      "provenance": [],
      "authorship_tag": "ABX9TyMsISaJCrfXNinWMk0zwKop",
      "include_colab_link": true
    },
    "kernelspec": {
      "name": "python3",
      "display_name": "Python 3"
    },
    "language_info": {
      "name": "python"
    }
  },
  "cells": [
    {
      "cell_type": "markdown",
      "metadata": {
        "id": "view-in-github",
        "colab_type": "text"
      },
      "source": [
        "<a href=\"https://colab.research.google.com/github/nothing099031/test1/blob/main/Untitled2.ipynb\" target=\"_parent\"><img src=\"https://colab.research.google.com/assets/colab-badge.svg\" alt=\"Open In Colab\"/></a>"
      ]
    },
    {
      "cell_type": "code",
      "execution_count": 1,
      "metadata": {
        "id": "YWcDqSp4ym-Y",
        "colab": {
          "base_uri": "https://localhost:8080/"
        },
        "outputId": "91bcc902-6ca9-44f6-ce8a-0da8d0b51703"
      },
      "outputs": [
        {
          "output_type": "stream",
          "name": "stdout",
          "text": [
            "Mounted at /content/drive\n"
          ]
        }
      ],
      "source": [
        "from google.colab import drive\n",
        "drive.mount('/content/drive')"
      ]
    },
    {
      "cell_type": "code",
      "source": [
        "import pandas as pd\n",
        "import numpy as np"
      ],
      "metadata": {
        "id": "nz2fVuPG1zYk"
      },
      "execution_count": 15,
      "outputs": []
    },
    {
      "cell_type": "code",
      "source": [
        "pd.read_excel('/odd2.xlsx')"
      ],
      "metadata": {
        "colab": {
          "base_uri": "https://localhost:8080/",
          "height": 424
        },
        "id": "e8QEsBBJ4BAk",
        "outputId": "6e8865ff-8d45-4c41-f9dc-2ec101d5b1b9"
      },
      "execution_count": 11,
      "outputs": [
        {
          "output_type": "execute_result",
          "data": {
            "text/plain": [
              "     Employee_Name  Employee_ID   Job_Role  Phone_Number  \\\n",
              "0      Jane Miller         8797  Developer  3.801881e+09   \n",
              "1    Michael Brown         6540    Manager  7.904752e+09   \n",
              "2   Sarah Anderson         2353  Developer  9.463822e+09   \n",
              "3    Chris Johnson         6392   Engineer  8.727628e+09   \n",
              "4      Laura Smith         1653    Analyst  7.750284e+08   \n",
              "..             ...          ...        ...           ...   \n",
              "95     Emily Smith         5111        NaN  4.463884e+09   \n",
              "96    Sarah Wilson         7388   Engineer  7.455009e+09   \n",
              "97             NaN         3773    Manager  4.515526e+08   \n",
              "98     Sarah Smith         1442    Analyst  3.294945e+09   \n",
              "99   Michael Jones         3490    Analyst  9.425622e+09   \n",
              "\n",
              "                        Email_ID  Total_Work_Hour_per_Month  Salary_per_Month  \n",
              "0       emily.taylor@example.com                     9999.0               NaN  \n",
              "1            john.brown@test.net                      160.0           11200.0  \n",
              "2        sarah.wilson@sample.org                     9999.0           -5000.0  \n",
              "3          john.jones@sample.org                      160.0            8000.0  \n",
              "4          sarah.taylor@test.net                     9999.0               NaN  \n",
              "..                           ...                        ...               ...  \n",
              "95          james.davis@test.net                      -10.0          100000.0  \n",
              "96      john.johnson@example.com                        NaN          100000.0  \n",
              "97       david.miller@sample.org                        NaN          100000.0  \n",
              "98  jessica.anderson@example.com                      -10.0           -5000.0  \n",
              "99        john.miller@sample.org                        NaN               NaN  \n",
              "\n",
              "[100 rows x 7 columns]"
            ],
            "text/html": [
              "\n",
              "  <div id=\"df-5267a203-d0c9-4c6e-86ba-b4e7c513cdae\" class=\"colab-df-container\">\n",
              "    <div>\n",
              "<style scoped>\n",
              "    .dataframe tbody tr th:only-of-type {\n",
              "        vertical-align: middle;\n",
              "    }\n",
              "\n",
              "    .dataframe tbody tr th {\n",
              "        vertical-align: top;\n",
              "    }\n",
              "\n",
              "    .dataframe thead th {\n",
              "        text-align: right;\n",
              "    }\n",
              "</style>\n",
              "<table border=\"1\" class=\"dataframe\">\n",
              "  <thead>\n",
              "    <tr style=\"text-align: right;\">\n",
              "      <th></th>\n",
              "      <th>Employee_Name</th>\n",
              "      <th>Employee_ID</th>\n",
              "      <th>Job_Role</th>\n",
              "      <th>Phone_Number</th>\n",
              "      <th>Email_ID</th>\n",
              "      <th>Total_Work_Hour_per_Month</th>\n",
              "      <th>Salary_per_Month</th>\n",
              "    </tr>\n",
              "  </thead>\n",
              "  <tbody>\n",
              "    <tr>\n",
              "      <th>0</th>\n",
              "      <td>Jane Miller</td>\n",
              "      <td>8797</td>\n",
              "      <td>Developer</td>\n",
              "      <td>3.801881e+09</td>\n",
              "      <td>emily.taylor@example.com</td>\n",
              "      <td>9999.0</td>\n",
              "      <td>NaN</td>\n",
              "    </tr>\n",
              "    <tr>\n",
              "      <th>1</th>\n",
              "      <td>Michael Brown</td>\n",
              "      <td>6540</td>\n",
              "      <td>Manager</td>\n",
              "      <td>7.904752e+09</td>\n",
              "      <td>john.brown@test.net</td>\n",
              "      <td>160.0</td>\n",
              "      <td>11200.0</td>\n",
              "    </tr>\n",
              "    <tr>\n",
              "      <th>2</th>\n",
              "      <td>Sarah Anderson</td>\n",
              "      <td>2353</td>\n",
              "      <td>Developer</td>\n",
              "      <td>9.463822e+09</td>\n",
              "      <td>sarah.wilson@sample.org</td>\n",
              "      <td>9999.0</td>\n",
              "      <td>-5000.0</td>\n",
              "    </tr>\n",
              "    <tr>\n",
              "      <th>3</th>\n",
              "      <td>Chris Johnson</td>\n",
              "      <td>6392</td>\n",
              "      <td>Engineer</td>\n",
              "      <td>8.727628e+09</td>\n",
              "      <td>john.jones@sample.org</td>\n",
              "      <td>160.0</td>\n",
              "      <td>8000.0</td>\n",
              "    </tr>\n",
              "    <tr>\n",
              "      <th>4</th>\n",
              "      <td>Laura Smith</td>\n",
              "      <td>1653</td>\n",
              "      <td>Analyst</td>\n",
              "      <td>7.750284e+08</td>\n",
              "      <td>sarah.taylor@test.net</td>\n",
              "      <td>9999.0</td>\n",
              "      <td>NaN</td>\n",
              "    </tr>\n",
              "    <tr>\n",
              "      <th>...</th>\n",
              "      <td>...</td>\n",
              "      <td>...</td>\n",
              "      <td>...</td>\n",
              "      <td>...</td>\n",
              "      <td>...</td>\n",
              "      <td>...</td>\n",
              "      <td>...</td>\n",
              "    </tr>\n",
              "    <tr>\n",
              "      <th>95</th>\n",
              "      <td>Emily Smith</td>\n",
              "      <td>5111</td>\n",
              "      <td>NaN</td>\n",
              "      <td>4.463884e+09</td>\n",
              "      <td>james.davis@test.net</td>\n",
              "      <td>-10.0</td>\n",
              "      <td>100000.0</td>\n",
              "    </tr>\n",
              "    <tr>\n",
              "      <th>96</th>\n",
              "      <td>Sarah Wilson</td>\n",
              "      <td>7388</td>\n",
              "      <td>Engineer</td>\n",
              "      <td>7.455009e+09</td>\n",
              "      <td>john.johnson@example.com</td>\n",
              "      <td>NaN</td>\n",
              "      <td>100000.0</td>\n",
              "    </tr>\n",
              "    <tr>\n",
              "      <th>97</th>\n",
              "      <td>NaN</td>\n",
              "      <td>3773</td>\n",
              "      <td>Manager</td>\n",
              "      <td>4.515526e+08</td>\n",
              "      <td>david.miller@sample.org</td>\n",
              "      <td>NaN</td>\n",
              "      <td>100000.0</td>\n",
              "    </tr>\n",
              "    <tr>\n",
              "      <th>98</th>\n",
              "      <td>Sarah Smith</td>\n",
              "      <td>1442</td>\n",
              "      <td>Analyst</td>\n",
              "      <td>3.294945e+09</td>\n",
              "      <td>jessica.anderson@example.com</td>\n",
              "      <td>-10.0</td>\n",
              "      <td>-5000.0</td>\n",
              "    </tr>\n",
              "    <tr>\n",
              "      <th>99</th>\n",
              "      <td>Michael Jones</td>\n",
              "      <td>3490</td>\n",
              "      <td>Analyst</td>\n",
              "      <td>9.425622e+09</td>\n",
              "      <td>john.miller@sample.org</td>\n",
              "      <td>NaN</td>\n",
              "      <td>NaN</td>\n",
              "    </tr>\n",
              "  </tbody>\n",
              "</table>\n",
              "<p>100 rows × 7 columns</p>\n",
              "</div>\n",
              "    <div class=\"colab-df-buttons\">\n",
              "\n",
              "  <div class=\"colab-df-container\">\n",
              "    <button class=\"colab-df-convert\" onclick=\"convertToInteractive('df-5267a203-d0c9-4c6e-86ba-b4e7c513cdae')\"\n",
              "            title=\"Convert this dataframe to an interactive table.\"\n",
              "            style=\"display:none;\">\n",
              "\n",
              "  <svg xmlns=\"http://www.w3.org/2000/svg\" height=\"24px\" viewBox=\"0 -960 960 960\">\n",
              "    <path d=\"M120-120v-720h720v720H120Zm60-500h600v-160H180v160Zm220 220h160v-160H400v160Zm0 220h160v-160H400v160ZM180-400h160v-160H180v160Zm440 0h160v-160H620v160ZM180-180h160v-160H180v160Zm440 0h160v-160H620v160Z\"/>\n",
              "  </svg>\n",
              "    </button>\n",
              "\n",
              "  <style>\n",
              "    .colab-df-container {\n",
              "      display:flex;\n",
              "      gap: 12px;\n",
              "    }\n",
              "\n",
              "    .colab-df-convert {\n",
              "      background-color: #E8F0FE;\n",
              "      border: none;\n",
              "      border-radius: 50%;\n",
              "      cursor: pointer;\n",
              "      display: none;\n",
              "      fill: #1967D2;\n",
              "      height: 32px;\n",
              "      padding: 0 0 0 0;\n",
              "      width: 32px;\n",
              "    }\n",
              "\n",
              "    .colab-df-convert:hover {\n",
              "      background-color: #E2EBFA;\n",
              "      box-shadow: 0px 1px 2px rgba(60, 64, 67, 0.3), 0px 1px 3px 1px rgba(60, 64, 67, 0.15);\n",
              "      fill: #174EA6;\n",
              "    }\n",
              "\n",
              "    .colab-df-buttons div {\n",
              "      margin-bottom: 4px;\n",
              "    }\n",
              "\n",
              "    [theme=dark] .colab-df-convert {\n",
              "      background-color: #3B4455;\n",
              "      fill: #D2E3FC;\n",
              "    }\n",
              "\n",
              "    [theme=dark] .colab-df-convert:hover {\n",
              "      background-color: #434B5C;\n",
              "      box-shadow: 0px 1px 3px 1px rgba(0, 0, 0, 0.15);\n",
              "      filter: drop-shadow(0px 1px 2px rgba(0, 0, 0, 0.3));\n",
              "      fill: #FFFFFF;\n",
              "    }\n",
              "  </style>\n",
              "\n",
              "    <script>\n",
              "      const buttonEl =\n",
              "        document.querySelector('#df-5267a203-d0c9-4c6e-86ba-b4e7c513cdae button.colab-df-convert');\n",
              "      buttonEl.style.display =\n",
              "        google.colab.kernel.accessAllowed ? 'block' : 'none';\n",
              "\n",
              "      async function convertToInteractive(key) {\n",
              "        const element = document.querySelector('#df-5267a203-d0c9-4c6e-86ba-b4e7c513cdae');\n",
              "        const dataTable =\n",
              "          await google.colab.kernel.invokeFunction('convertToInteractive',\n",
              "                                                    [key], {});\n",
              "        if (!dataTable) return;\n",
              "\n",
              "        const docLinkHtml = 'Like what you see? Visit the ' +\n",
              "          '<a target=\"_blank\" href=https://colab.research.google.com/notebooks/data_table.ipynb>data table notebook</a>'\n",
              "          + ' to learn more about interactive tables.';\n",
              "        element.innerHTML = '';\n",
              "        dataTable['output_type'] = 'display_data';\n",
              "        await google.colab.output.renderOutput(dataTable, element);\n",
              "        const docLink = document.createElement('div');\n",
              "        docLink.innerHTML = docLinkHtml;\n",
              "        element.appendChild(docLink);\n",
              "      }\n",
              "    </script>\n",
              "  </div>\n",
              "\n",
              "\n",
              "<div id=\"df-500e6a84-75dc-4705-95c6-2689cb2b13bd\">\n",
              "  <button class=\"colab-df-quickchart\" onclick=\"quickchart('df-500e6a84-75dc-4705-95c6-2689cb2b13bd')\"\n",
              "            title=\"Suggest charts\"\n",
              "            style=\"display:none;\">\n",
              "\n",
              "<svg xmlns=\"http://www.w3.org/2000/svg\" height=\"24px\"viewBox=\"0 0 24 24\"\n",
              "     width=\"24px\">\n",
              "    <g>\n",
              "        <path d=\"M19 3H5c-1.1 0-2 .9-2 2v14c0 1.1.9 2 2 2h14c1.1 0 2-.9 2-2V5c0-1.1-.9-2-2-2zM9 17H7v-7h2v7zm4 0h-2V7h2v10zm4 0h-2v-4h2v4z\"/>\n",
              "    </g>\n",
              "</svg>\n",
              "  </button>\n",
              "\n",
              "<style>\n",
              "  .colab-df-quickchart {\n",
              "      --bg-color: #E8F0FE;\n",
              "      --fill-color: #1967D2;\n",
              "      --hover-bg-color: #E2EBFA;\n",
              "      --hover-fill-color: #174EA6;\n",
              "      --disabled-fill-color: #AAA;\n",
              "      --disabled-bg-color: #DDD;\n",
              "  }\n",
              "\n",
              "  [theme=dark] .colab-df-quickchart {\n",
              "      --bg-color: #3B4455;\n",
              "      --fill-color: #D2E3FC;\n",
              "      --hover-bg-color: #434B5C;\n",
              "      --hover-fill-color: #FFFFFF;\n",
              "      --disabled-bg-color: #3B4455;\n",
              "      --disabled-fill-color: #666;\n",
              "  }\n",
              "\n",
              "  .colab-df-quickchart {\n",
              "    background-color: var(--bg-color);\n",
              "    border: none;\n",
              "    border-radius: 50%;\n",
              "    cursor: pointer;\n",
              "    display: none;\n",
              "    fill: var(--fill-color);\n",
              "    height: 32px;\n",
              "    padding: 0;\n",
              "    width: 32px;\n",
              "  }\n",
              "\n",
              "  .colab-df-quickchart:hover {\n",
              "    background-color: var(--hover-bg-color);\n",
              "    box-shadow: 0 1px 2px rgba(60, 64, 67, 0.3), 0 1px 3px 1px rgba(60, 64, 67, 0.15);\n",
              "    fill: var(--button-hover-fill-color);\n",
              "  }\n",
              "\n",
              "  .colab-df-quickchart-complete:disabled,\n",
              "  .colab-df-quickchart-complete:disabled:hover {\n",
              "    background-color: var(--disabled-bg-color);\n",
              "    fill: var(--disabled-fill-color);\n",
              "    box-shadow: none;\n",
              "  }\n",
              "\n",
              "  .colab-df-spinner {\n",
              "    border: 2px solid var(--fill-color);\n",
              "    border-color: transparent;\n",
              "    border-bottom-color: var(--fill-color);\n",
              "    animation:\n",
              "      spin 1s steps(1) infinite;\n",
              "  }\n",
              "\n",
              "  @keyframes spin {\n",
              "    0% {\n",
              "      border-color: transparent;\n",
              "      border-bottom-color: var(--fill-color);\n",
              "      border-left-color: var(--fill-color);\n",
              "    }\n",
              "    20% {\n",
              "      border-color: transparent;\n",
              "      border-left-color: var(--fill-color);\n",
              "      border-top-color: var(--fill-color);\n",
              "    }\n",
              "    30% {\n",
              "      border-color: transparent;\n",
              "      border-left-color: var(--fill-color);\n",
              "      border-top-color: var(--fill-color);\n",
              "      border-right-color: var(--fill-color);\n",
              "    }\n",
              "    40% {\n",
              "      border-color: transparent;\n",
              "      border-right-color: var(--fill-color);\n",
              "      border-top-color: var(--fill-color);\n",
              "    }\n",
              "    60% {\n",
              "      border-color: transparent;\n",
              "      border-right-color: var(--fill-color);\n",
              "    }\n",
              "    80% {\n",
              "      border-color: transparent;\n",
              "      border-right-color: var(--fill-color);\n",
              "      border-bottom-color: var(--fill-color);\n",
              "    }\n",
              "    90% {\n",
              "      border-color: transparent;\n",
              "      border-bottom-color: var(--fill-color);\n",
              "    }\n",
              "  }\n",
              "</style>\n",
              "\n",
              "  <script>\n",
              "    async function quickchart(key) {\n",
              "      const quickchartButtonEl =\n",
              "        document.querySelector('#' + key + ' button');\n",
              "      quickchartButtonEl.disabled = true;  // To prevent multiple clicks.\n",
              "      quickchartButtonEl.classList.add('colab-df-spinner');\n",
              "      try {\n",
              "        const charts = await google.colab.kernel.invokeFunction(\n",
              "            'suggestCharts', [key], {});\n",
              "      } catch (error) {\n",
              "        console.error('Error during call to suggestCharts:', error);\n",
              "      }\n",
              "      quickchartButtonEl.classList.remove('colab-df-spinner');\n",
              "      quickchartButtonEl.classList.add('colab-df-quickchart-complete');\n",
              "    }\n",
              "    (() => {\n",
              "      let quickchartButtonEl =\n",
              "        document.querySelector('#df-500e6a84-75dc-4705-95c6-2689cb2b13bd button');\n",
              "      quickchartButtonEl.style.display =\n",
              "        google.colab.kernel.accessAllowed ? 'block' : 'none';\n",
              "    })();\n",
              "  </script>\n",
              "</div>\n",
              "\n",
              "    </div>\n",
              "  </div>\n"
            ],
            "application/vnd.google.colaboratory.intrinsic+json": {
              "type": "dataframe",
              "summary": "{\n  \"name\": \"pd\",\n  \"rows\": 100,\n  \"fields\": [\n    {\n      \"column\": \"Employee_Name\",\n      \"properties\": {\n        \"dtype\": \"string\",\n        \"num_unique_values\": 66,\n        \"samples\": [\n          \"Michael Johnson\",\n          \"Laura Williams\",\n          \"Jane Miller\"\n        ],\n        \"semantic_type\": \"\",\n        \"description\": \"\"\n      }\n    },\n    {\n      \"column\": \"Employee_ID\",\n      \"properties\": {\n        \"dtype\": \"number\",\n        \"std\": 2718,\n        \"min\": 1061,\n        \"max\": 9930,\n        \"num_unique_values\": 97,\n        \"samples\": [\n          1609,\n          9930,\n          5111\n        ],\n        \"semantic_type\": \"\",\n        \"description\": \"\"\n      }\n    },\n    {\n      \"column\": \"Job_Role\",\n      \"properties\": {\n        \"dtype\": \"category\",\n        \"num_unique_values\": 5,\n        \"samples\": [\n          \"Manager\",\n          \"Data Scientist\",\n          \"Engineer\"\n        ],\n        \"semantic_type\": \"\",\n        \"description\": \"\"\n      }\n    },\n    {\n      \"column\": \"Phone_Number\",\n      \"properties\": {\n        \"dtype\": \"number\",\n        \"std\": 2815252521.577166,\n        \"min\": 282272444.0,\n        \"max\": 9849897713.0,\n        \"num_unique_values\": 92,\n        \"samples\": [\n          4445761467.0,\n          1207962352.0,\n          4369373006.0\n        ],\n        \"semantic_type\": \"\",\n        \"description\": \"\"\n      }\n    },\n    {\n      \"column\": \"Email_ID\",\n      \"properties\": {\n        \"dtype\": \"string\",\n        \"num_unique_values\": 76,\n        \"samples\": [\n          \"sarah.taylor@test.net\",\n          \"john.miller@sample.org\",\n          \"david.smith@test.net\"\n        ],\n        \"semantic_type\": \"\",\n        \"description\": \"\"\n      }\n    },\n    {\n      \"column\": \"Total_Work_Hour_per_Month\",\n      \"properties\": {\n        \"dtype\": \"number\",\n        \"std\": 3935.482721756857,\n        \"min\": -10.0,\n        \"max\": 9999.0,\n        \"num_unique_values\": 5,\n        \"samples\": [\n          160.0,\n          -10.0,\n          200.0\n        ],\n        \"semantic_type\": \"\",\n        \"description\": \"\"\n      }\n    },\n    {\n      \"column\": \"Salary_per_Month\",\n      \"properties\": {\n        \"dtype\": \"number\",\n        \"std\": 37527.84755048112,\n        \"min\": -5000.0,\n        \"max\": 100000.0,\n        \"num_unique_values\": 11,\n        \"samples\": [\n          9600.0,\n          11200.0,\n          12600.0\n        ],\n        \"semantic_type\": \"\",\n        \"description\": \"\"\n      }\n    }\n  ]\n}"
            }
          },
          "metadata": {},
          "execution_count": 11
        }
      ]
    },
    {
      "cell_type": "code",
      "source": [
        "# question 1\n",
        "# are these missing values in any colums ? if so in which column?\n",
        "\n"
      ],
      "metadata": {
        "id": "LD1aiKZJ4v60"
      },
      "execution_count": 12,
      "outputs": []
    },
    {
      "cell_type": "code",
      "source": [
        " df = pd.read_excel('/odd2.xlsx')"
      ],
      "metadata": {
        "id": "uNlFp2Zy7R0r"
      },
      "execution_count": 24,
      "outputs": []
    },
    {
      "cell_type": "code",
      "source": [
        "missing_values = df.isnull().sum()"
      ],
      "metadata": {
        "id": "im-41Y2m9Yfj"
      },
      "execution_count": 31,
      "outputs": []
    },
    {
      "cell_type": "code",
      "source": [
        "print(\"colums with missing values\")\n",
        "print(missing_values[missing_values > 0])"
      ],
      "metadata": {
        "colab": {
          "base_uri": "https://localhost:8080/"
        },
        "id": "KEy--VeL9r4y",
        "outputId": "12dc0adf-c217-48da-b39e-5f9969086638"
      },
      "execution_count": 32,
      "outputs": [
        {
          "output_type": "stream",
          "name": "stdout",
          "text": [
            "colums with missing values\n",
            "Employee_Name                 9\n",
            "Job_Role                     10\n",
            "Phone_Number                  8\n",
            "Email_ID                      9\n",
            "Total_Work_Hour_per_Month    23\n",
            "Salary_per_Month             20\n",
            "dtype: int64\n"
          ]
        }
      ]
    },
    {
      "cell_type": "code",
      "source": [
        "print(df.dtypes)"
      ],
      "metadata": {
        "colab": {
          "base_uri": "https://localhost:8080/"
        },
        "id": "0R-xnNSd97GC",
        "outputId": "e9e1ab1a-9b43-413d-f88c-006ccb929fb5"
      },
      "execution_count": 33,
      "outputs": [
        {
          "output_type": "stream",
          "name": "stdout",
          "text": [
            "Employee_Name                 object\n",
            "Employee_ID                    int64\n",
            "Job_Role                      object\n",
            "Phone_Number                 float64\n",
            "Email_ID                      object\n",
            "Total_Work_Hour_per_Month    float64\n",
            "Salary_per_Month             float64\n",
            "dtype: object\n"
          ]
        }
      ]
    },
    {
      "cell_type": "code",
      "source": [
        "for col in df.columns:\n",
        "  print(f\"\\ncolums {col}\")\n",
        "  print(f\"data type: {df[col].dtype}\")\n",
        ""
      ],
      "metadata": {
        "colab": {
          "base_uri": "https://localhost:8080/"
        },
        "id": "002WnBND-Tay",
        "outputId": "ef87aba4-a505-4624-9752-bd062756efa9"
      },
      "execution_count": 36,
      "outputs": [
        {
          "output_type": "stream",
          "name": "stdout",
          "text": [
            "\n",
            "colums Employee_Name\n",
            "data type: object\n",
            "\n",
            "colums Employee_ID\n",
            "data type: int64\n",
            "\n",
            "colums Job_Role\n",
            "data type: object\n",
            "\n",
            "colums Phone_Number\n",
            "data type: float64\n",
            "\n",
            "colums Email_ID\n",
            "data type: object\n",
            "\n",
            "colums Total_Work_Hour_per_Month\n",
            "data type: float64\n",
            "\n",
            "colums Salary_per_Month\n",
            "data type: float64\n"
          ]
        }
      ]
    },
    {
      "cell_type": "code",
      "source": [
        "#question 3\n",
        "#some employee have\"9999\" in the total _work_hour_per_month_column.what does this represent, and should it be replaced?"
      ],
      "metadata": {
        "id": "Wx2kxVFc_SVC"
      },
      "execution_count": 37,
      "outputs": []
    },
    {
      "cell_type": "code",
      "source": [],
      "metadata": {
        "id": "fYhX8ZAI_44J"
      },
      "execution_count": 37,
      "outputs": []
    }
  ]
}